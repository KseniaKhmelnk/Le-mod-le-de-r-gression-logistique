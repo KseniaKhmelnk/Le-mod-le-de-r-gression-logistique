{
 "cells": [
  {
   "cell_type": "markdown",
   "metadata": {},
   "source": [
    "# DM 2 Application numérique"
   ]
  },
  {
   "cell_type": "code",
   "execution_count": 182,
   "metadata": {},
   "outputs": [
    {
     "name": "stdout",
     "output_type": "stream",
     "text": [
      "     PassengerId  Survived  Pclass  \\\n",
      "0              1         0       3   \n",
      "1              2         1       1   \n",
      "2              3         1       3   \n",
      "3              4         1       1   \n",
      "4              5         0       3   \n",
      "..           ...       ...     ...   \n",
      "886          887         0       2   \n",
      "887          888         1       1   \n",
      "888          889         0       3   \n",
      "889          890         1       1   \n",
      "890          891         0       3   \n",
      "\n",
      "                                                  Name     Sex        Age  \\\n",
      "0                              Braund, Mr. Owen Harris    male  22.000000   \n",
      "1    Cumings, Mrs. John Bradley (Florence Briggs Th...  female  38.000000   \n",
      "2                               Heikkinen, Miss. Laina  female  26.000000   \n",
      "3         Futrelle, Mrs. Jacques Heath (Lily May Peel)  female  35.000000   \n",
      "4                             Allen, Mr. William Henry    male  35.000000   \n",
      "..                                                 ...     ...        ...   \n",
      "886                              Montvila, Rev. Juozas    male  27.000000   \n",
      "887                       Graham, Miss. Margaret Edith  female  19.000000   \n",
      "888           Johnston, Miss. Catherine Helen \"Carrie\"  female  29.699118   \n",
      "889                              Behr, Mr. Karl Howell    male  26.000000   \n",
      "890                                Dooley, Mr. Patrick    male  32.000000   \n",
      "\n",
      "     SibSp  Parch            Ticket     Fare Cabin Embarked  Sexe  \n",
      "0        1      0         A/5 21171   7.2500   NaN        S     1  \n",
      "1        1      0          PC 17599  71.2833   C85        C     0  \n",
      "2        0      0  STON/O2. 3101282   7.9250   NaN        S     0  \n",
      "3        1      0            113803  53.1000  C123        S     0  \n",
      "4        0      0            373450   8.0500   NaN        S     1  \n",
      "..     ...    ...               ...      ...   ...      ...   ...  \n",
      "886      0      0            211536  13.0000   NaN        S     1  \n",
      "887      0      0            112053  30.0000   B42        S     0  \n",
      "888      1      2        W./C. 6607  23.4500   NaN        S     0  \n",
      "889      0      0            111369  30.0000  C148        C     1  \n",
      "890      0      0            370376   7.7500   NaN        Q     1  \n",
      "\n",
      "[891 rows x 13 columns]\n"
     ]
    }
   ],
   "source": [
    "import numpy as np\n",
    "import pandas as pd\n",
    "from math import *\n",
    "from scipy import stats\n",
    "import statsmodels.api as sm \n",
    "\n",
    "df=pd.read_csv(\"Titanic.csv\")\n",
    "l=len(df['PassengerId'])\n",
    "df['Age'].fillna(df['Age'].mean(),inplace=True)\n",
    "S=[]\n",
    "for i in range(l):\n",
    "    if df['Sex'][i]=='male':\n",
    "        S.append(1)\n",
    "    else:\n",
    "        S.append(0)\n",
    "new_df=df.assign(Sexe=S)\n",
    "print(new_df)"
   ]
  },
  {
   "cell_type": "markdown",
   "metadata": {},
   "source": [
    "#### 1. Déterminer le nombre et la proportion de passagers décédés."
   ]
  },
  {
   "cell_type": "code",
   "execution_count": 17,
   "metadata": {},
   "outputs": [
    {
     "name": "stdout",
     "output_type": "stream",
     "text": [
      "Le nombre de passagers décdés est:\n",
      "549\n",
      "La proportion de passagers décédés est:\n",
      "0.6161616161616161\n"
     ]
    }
   ],
   "source": [
    "compteur=0\n",
    "for i in range(l):\n",
    "    if df['Survived'][i]==0:\n",
    "        compteur+=1\n",
    "\n",
    "print(\"Le nombre de passagers décdés est:\")\n",
    "print(compteur)\n",
    "print(\"La proportion de passagers décédés est:\")\n",
    "print(compteur/l)"
   ]
  },
  {
   "cell_type": "markdown",
   "metadata": {},
   "source": [
    "#### 2. Déterminer le pourcentage d'hommes et de femmes parmi les personnes décédées et les survivants. Qu'observe-t-on?"
   ]
  },
  {
   "cell_type": "code",
   "execution_count": 87,
   "metadata": {},
   "outputs": [
    {
     "name": "stdout",
     "output_type": "stream",
     "text": [
      "Il y a 85.24590163934425 pourcents d'hommes et 14.754098360655746 pourcents de femmes parmi les personnes décédées\n",
      "Il y a 31.871345029239766 pourcents d'hommes et 68.12865497076024 pourcents de femmes parmi les survivants\n"
     ]
    }
   ],
   "source": [
    "compteur_h_déc=0\n",
    "compteur_h_viv=0\n",
    "for i in range(l):\n",
    "    if df['Survived'][i]==0:\n",
    "        if df['Sex'][i]==1:\n",
    "            compteur_h_déc+=1\n",
    "    else:\n",
    "        if df['Sex'][i]==1:\n",
    "            compteur_h_viv+=1\n",
    "\n",
    "print(\"Il y a \"+str((compteur_h_déc/compteur)*100)+\" pourcents d'hommes et \"+str(100-(compteur_h_déc/compteur)*100)+\" pourcents de femmes parmi les personnes décédées\")\n",
    "print(\"Il y a \"+str((compteur_h_viv/(l-compteur))*100)+\" pourcents d'hommes et \"+str(100-(compteur_h_viv/(l-compteur))*100)+\" pourcents de femmes parmi les survivants\")\n"
   ]
  },
  {
   "cell_type": "markdown",
   "metadata": {},
   "source": [
    "On observe une grande majorité d'hommes parmis les personnes décédées et une grande majorité de femmes parmi les survivants ce qui est en accord avec le fait que les femmes et les enfants ont embarqué en priorité dans les canaux de sauvetage pour survivre."
   ]
  },
  {
   "cell_type": "markdown",
   "metadata": {},
   "source": [
    "#### 3. Reprendre cette analyse pour les différentes classes. Qu'observe-t-on?"
   ]
  },
  {
   "cell_type": "code",
   "execution_count": 23,
   "metadata": {},
   "outputs": [
    {
     "name": "stdout",
     "output_type": "stream",
     "text": [
      "Il y a 14.571948998178508 pourcents de classe 1, 17.66848816029144 pourcents de classe 2 et 67.75956284153004 pourcents de classe 3 parmi les personnes décédées.\n",
      "Il y a 39.76608187134503 pourcents de classe 1, 25.438596491228072 pourcents de classe 2 et 34.7953216374269 pourcents de classe 3 parmi les survivants.\n"
     ]
    }
   ],
   "source": [
    "compteur_classe1_viv=0\n",
    "compteur_classe2_viv=0\n",
    "compteur_classe1_déc=0\n",
    "compteur_classe2_déc=0\n",
    "for i in range(l):\n",
    "    if df['Survived'][i]==0:\n",
    "        if df['Pclass'][i]==1:\n",
    "            compteur_classe1_déc+=1\n",
    "        if df['Pclass'][i]==2:\n",
    "            compteur_classe2_déc+=1\n",
    "    else:\n",
    "        if df['Pclass'][i]==1:\n",
    "            compteur_classe1_viv+=1\n",
    "        if df['Pclass'][i]==2:\n",
    "            compteur_classe2_viv+=1\n",
    "\n",
    "P1d=(compteur_classe1_déc/compteur)*100\n",
    "P1v=(compteur_classe1_viv/(l-compteur))*100\n",
    "P2d=(compteur_classe2_déc/compteur)*100\n",
    "P2v=(compteur_classe2_viv/(l-compteur))*100\n",
    "P3d=100-P2d-P1d\n",
    "P3v=100-P2v-P1v\n",
    "\n",
    "print(\"Il y a \"+str(P1d)+\" pourcents de classe 1, \"+str(P2d)+\" pourcents de classe 2 et \"+str(P3d)+\" pourcents de classe 3 parmi les personnes décédées.\")\n",
    "print(\"Il y a \"+str(P1v)+\" pourcents de classe 1, \"+str(P2v)+\" pourcents de classe 2 et \"+str(P3v)+\" pourcents de classe 3 parmi les survivants.\")\n",
    "\n"
   ]
  },
  {
   "cell_type": "markdown",
   "metadata": {},
   "source": [
    "On observe que parmi les personnes décédées il y a une majorité de personnes de la 3ème classe et parmi les survivants il y a la même proportion de personnes de classe 1 et de classe 3. \n",
    "Si l'on tient compte du fait que beaucoup plus de passagers voyageaient en classe 3, on se rend compte que les passagers des classes les plus chères ont eu beaucoup plus de chance de survivre à la catastrophe: ils ont eu plus facilement accés aux canaux de sauvetage.\n"
   ]
  },
  {
   "cell_type": "markdown",
   "metadata": {},
   "source": [
    "#### 4. Calculer la matrice de corrélation des covariables. Qu'observe-t-on?"
   ]
  },
  {
   "cell_type": "code",
   "execution_count": 190,
   "metadata": {},
   "outputs": [
    {
     "name": "stdout",
     "output_type": "stream",
     "text": [
      "          Pclass       Age     SibSp     Parch      Fare      Sexe\n",
      "Pclass  1.000000 -0.331339  0.083081  0.018443 -0.549500  0.131900\n",
      "Age    -0.331339  1.000000 -0.232625 -0.179191  0.091566  0.084153\n",
      "SibSp   0.083081 -0.232625  1.000000  0.414838  0.159651 -0.114631\n",
      "Parch   0.018443 -0.179191  0.414838  1.000000  0.216225 -0.245489\n",
      "Fare   -0.549500  0.091566  0.159651  0.216225  1.000000 -0.182333\n",
      "Sexe    0.131900  0.084153 -0.114631 -0.245489 -0.182333  1.000000\n"
     ]
    }
   ],
   "source": [
    "x = new_df.select_dtypes(np.number).drop([\"PassengerId\"],axis=1)\n",
    "matrix=x.corr()\n",
    "print(matrix)"
   ]
  },
  {
   "cell_type": "markdown",
   "metadata": {},
   "source": [
    "On peut remarquer que l'âge est assez corrélé avec la classe des passagers: on peut penser que les personnes les plus jeunes ont eu moins de moyens pour voyager en première classe.\n",
    "\n",
    "Enfin, le nombre d'enfants/ de parents/ de conjoints à bord n'est pas corrélé avec la variable 'Survived': le sauvetage n'a donc pas eu lieu en regroupant les familles entre elles ce qui peut être surprenant."
   ]
  },
  {
   "cell_type": "markdown",
   "metadata": {},
   "source": [
    "#### 5. On inclut d'abord tous les paramètres dans la régression. Calculer les intervalles de confiance à 95% pour l'ensemble des paramètres. Qu'observe-t-on?"
   ]
  },
  {
   "cell_type": "code",
   "execution_count": 185,
   "metadata": {
    "scrolled": true
   },
   "outputs": [
    {
     "name": "stdout",
     "output_type": "stream",
     "text": [
      "Optimization terminated successfully.\n",
      "         Current function value: 0.442607\n",
      "         Iterations 6\n",
      "                           Logit Regression Results                           \n",
      "==============================================================================\n",
      "Dep. Variable:                      y   No. Observations:                  891\n",
      "Model:                          Logit   Df Residuals:                      884\n",
      "Method:                           MLE   Df Model:                            6\n",
      "Date:                Wed, 19 Oct 2022   Pseudo R-squ.:                  0.3353\n",
      "Time:                        20:50:03   Log-Likelihood:                -394.36\n",
      "converged:                       True   LL-Null:                       -593.33\n",
      "Covariance Type:            nonrobust   LLR p-value:                 7.794e-83\n",
      "==============================================================================\n",
      "                 coef    std err          z      P>|z|      [0.025      0.975]\n",
      "------------------------------------------------------------------------------\n",
      "const          4.9604      0.533      9.308      0.000       3.916       6.005\n",
      "Pclass        -1.0843      0.139     -7.794      0.000      -1.357      -0.812\n",
      "Age           -0.0397      0.008     -5.092      0.000      -0.055      -0.024\n",
      "SibSp         -0.3507      0.110     -3.201      0.001      -0.565      -0.136\n",
      "Parch         -0.1120      0.117     -0.954      0.340      -0.342       0.118\n",
      "Fare           0.0029      0.002      1.208      0.227      -0.002       0.007\n",
      "Sexe          -2.7629      0.199    -13.883      0.000      -3.153      -2.373\n",
      "==============================================================================\n"
     ]
    }
   ],
   "source": [
    "new_df[\"Survived\"] = new_df[\"Survived\"].astype('category')\n",
    "Y = new_df['Survived'].cat.codes\n",
    "x = new_df.select_dtypes(np.number).drop([\"PassengerId\"],axis=1)\n",
    "\n",
    "X = sm.add_constant(x)\n",
    "model = sm.Logit(Y, X)\n",
    "result = model.fit()\n",
    "print(result.summary())"
   ]
  },
  {
   "cell_type": "markdown",
   "metadata": {},
   "source": [
    "On remarque que les coefficients de Pclass, Age, SibSp, Parch et Sexe sont négatifs ainsi lorsqu'ils augmentent les chances de survie diminuent. Donc on a plus de chance de survivre en étant une jeune femme en première classe sans famille à bord. Néanmoins plus le billet est cher plus les chances de survie sont élevées car le coefficient de Fare est positif. \n",
    "Ces influences sont plus ou moins fortes en fonction de la valeur absolue de ces coefficients (le paramètre le plus influent étant le sexe)."
   ]
  },
  {
   "cell_type": "markdown",
   "metadata": {},
   "source": [
    "#### 6. Déterminer la p-valeur du test: $$H_0:\\beta_{Parch}=0$$  $$ H_1:\\beta_{Parche}\\neq0$$\n",
    "#### Que peut-on conclure?\n"
   ]
  },
  {
   "cell_type": "markdown",
   "metadata": {},
   "source": [
    "On observe grâce au tableau de la question précédente que cette p-valeur vaut 0.340 \n",
    "Cette valeur est relativement élevée ce qui ne nous permet pas de rejeter l'hypothèse nulle.\n",
    "Ainsi, le nombre de parents/ d'enfants à bord ne semble pas avoir d'influence sur la survie."
   ]
  },
  {
   "cell_type": "markdown",
   "metadata": {},
   "source": [
    "#### 7. On reprend l'analyse en éliminant la variable Parch. Calculer les intervalles de confiance à 95%. Que peut-on en conclure? "
   ]
  },
  {
   "cell_type": "markdown",
   "metadata": {},
   "source": [
    "Les intervalles de confiance restent les mêmes, on modifie simplement le vecteur X qui ne contient plus la variable Parch"
   ]
  },
  {
   "cell_type": "code",
   "execution_count": 192,
   "metadata": {},
   "outputs": [
    {
     "name": "stdout",
     "output_type": "stream",
     "text": [
      "Optimization terminated successfully.\n",
      "         Current function value: 0.443127\n",
      "         Iterations 6\n",
      "                           Logit Regression Results                           \n",
      "==============================================================================\n",
      "Dep. Variable:                      y   No. Observations:                  891\n",
      "Model:                          Logit   Df Residuals:                      885\n",
      "Method:                           MLE   Df Model:                            5\n",
      "Date:                Wed, 19 Oct 2022   Pseudo R-squ.:                  0.3346\n",
      "Time:                        20:53:56   Log-Likelihood:                -394.83\n",
      "converged:                       True   LL-Null:                       -593.33\n",
      "Covariance Type:            nonrobust   LLR p-value:                 1.312e-83\n",
      "==============================================================================\n",
      "                 coef    std err          z      P>|z|      [0.025      0.975]\n",
      "------------------------------------------------------------------------------\n",
      "const          4.9424      0.531      9.312      0.000       3.902       5.983\n",
      "Pclass        -1.0982      0.138     -7.960      0.000      -1.369      -0.828\n",
      "Age           -0.0394      0.008     -5.067      0.000      -0.055      -0.024\n",
      "SibSp         -0.3786      0.106     -3.565      0.000      -0.587      -0.170\n",
      "Fare           0.0024      0.002      1.054      0.292      -0.002       0.007\n",
      "Sexe          -2.7264      0.195    -14.013      0.000      -3.108      -2.345\n",
      "==============================================================================\n"
     ]
    }
   ],
   "source": [
    "x2=new_df.select_dtypes(np.number).drop([\"PassengerId\",'Parch'],axis=1)\n",
    "X2 = sm.add_constant(x2)\n",
    "model2 = sm.Logit(Y, X2)\n",
    "result2 = model2.fit()\n",
    "print(result2.summary())"
   ]
  },
  {
   "cell_type": "markdown",
   "metadata": {},
   "source": [
    "#### 8. Déterminer la p-valeur du test :$$H_0:\\beta_{Fare}=0$$  $$ H_1:\\beta_{Fare}\\neq0$$"
   ]
  },
  {
   "cell_type": "markdown",
   "metadata": {},
   "source": [
    "On observe que cette p-valeur vaut 0.292 ce qui est relativement élevé et ce qui ne nous permet donc pas de rejeter l'hypothèse nulle. Ainsi, le prix du billet ne semble pas non plus avoir d'influence sur la survie.\n"
   ]
  },
  {
   "cell_type": "markdown",
   "metadata": {},
   "source": [
    "#### 9. On reprend en éliminant la variable Parch et Fare. Calculer les intervalles de confiance à 95%. Que peut-on en conclure?"
   ]
  },
  {
   "cell_type": "markdown",
   "metadata": {},
   "source": [
    "On garde encore les mêmes intervalles mais on modifie le vecteur X:"
   ]
  },
  {
   "cell_type": "code",
   "execution_count": 193,
   "metadata": {},
   "outputs": [
    {
     "name": "stdout",
     "output_type": "stream",
     "text": [
      "Optimization terminated successfully.\n",
      "         Current function value: 0.443796\n",
      "         Iterations 6\n",
      "                           Logit Regression Results                           \n",
      "==============================================================================\n",
      "Dep. Variable:                      y   No. Observations:                  891\n",
      "Model:                          Logit   Df Residuals:                      886\n",
      "Method:                           MLE   Df Model:                            4\n",
      "Date:                Wed, 19 Oct 2022   Pseudo R-squ.:                  0.3336\n",
      "Time:                        20:54:57   Log-Likelihood:                -395.42\n",
      "converged:                       True   LL-Null:                       -593.33\n",
      "Covariance Type:            nonrobust   LLR p-value:                 2.236e-84\n",
      "==============================================================================\n",
      "                 coef    std err          z      P>|z|      [0.025      0.975]\n",
      "------------------------------------------------------------------------------\n",
      "const          5.1920      0.478     10.854      0.000       4.254       6.130\n",
      "Pclass        -1.1724      0.120     -9.792      0.000      -1.407      -0.938\n",
      "Age           -0.0398      0.008     -5.131      0.000      -0.055      -0.025\n",
      "SibSp         -0.3578      0.104     -3.439      0.001      -0.562      -0.154\n",
      "Sexe          -2.7398      0.194    -14.112      0.000      -3.120      -2.359\n",
      "==============================================================================\n"
     ]
    }
   ],
   "source": [
    "x3=new_df.select_dtypes(np.number).drop([\"PassengerId\",'Parch','Fare'],axis=1)\n",
    "X3 = sm.add_constant(x3)\n",
    "model3 = sm.Logit(Y, X3)\n",
    "result3 = model3.fit()\n",
    "print(result3.summary())"
   ]
  },
  {
   "cell_type": "markdown",
   "metadata": {},
   "source": [
    "#### 10. Dans ce modèle, quelles sont les probabilités de survie d'un homme dans un cas, et d'une femme dans un autre cas, chacun âgé de 22, sans famille et voyageant en 1ère classe?"
   ]
  },
  {
   "cell_type": "markdown",
   "metadata": {},
   "source": [
    "On a la formule $$P(Y)=\\frac{1}{1+e^{-\\left(b_0+b_1x_1+b_2x_2+b_3x_3+b_4x_4\\right)}}$$\n",
    "\n",
    "avec $P(Y)$ la probabilité de survie, les $b_i$ les coefficients des différents $x_i$ qui sont les variables explicatives"
   ]
  },
  {
   "cell_type": "code",
   "execution_count": 198,
   "metadata": {},
   "outputs": [
    {
     "name": "stdout",
     "output_type": "stream",
     "text": [
      "La probabilité pour une femme de 22 ans sans famille et voyageant en première classe de survivre était de:\n",
      "0.9586716530428824\n",
      "Et celle d'un homme était de:\n",
      "0.5996963356777223\n"
     ]
    }
   ],
   "source": [
    "def P(x1,x2,x3,x4):\n",
    "    return 1/(1+exp(-(5.1920+(-1.1724)*x1+(-0.0398)*x2+(-0.3578)*x3+(-2.7398)*x4)))\n",
    "\n",
    "print(\"La probabilité pour une femme de 22 ans sans famille et voyageant en première classe de survivre était de:\")\n",
    "print(P(1,22,0,0))\n",
    "print(\"Et celle d'un homme était de:\")\n",
    "print(P(1,22,0,1))"
   ]
  },
  {
   "cell_type": "markdown",
   "metadata": {},
   "source": [
    "Cela semble cohérent étant donné qu'on a remarqué dans les questions précédentes qu'être une femme jeune voyageant en première classe et sans famille donnait les meilleures chances de survie."
   ]
  },
  {
   "cell_type": "code",
   "execution_count": null,
   "metadata": {},
   "outputs": [],
   "source": []
  }
 ],
 "metadata": {
  "kernelspec": {
   "display_name": "Python 3",
   "language": "python",
   "name": "python3"
  },
  "language_info": {
   "codemirror_mode": {
    "name": "ipython",
    "version": 3
   },
   "file_extension": ".py",
   "mimetype": "text/x-python",
   "name": "python",
   "nbconvert_exporter": "python",
   "pygments_lexer": "ipython3",
   "version": "3.7.4"
  }
 },
 "nbformat": 4,
 "nbformat_minor": 2
}
